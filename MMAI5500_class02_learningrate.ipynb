{
 "cells": [
  {
   "cell_type": "markdown",
   "id": "97fc14b3",
   "metadata": {},
   "source": [
    "\n",
    "Parts taken from [Understand the Impact of Learning Rate on Neural Network Performance](https://machinelearningmastery.com/understand-the-dynamics-of-learning-rate-on-deep-learning-neural-networks/) and [Learning Rate Schedule in Practice: an example with Keras and TensorFlow 2.0](https://towardsdatascience.com/learning-rate-schedule-in-practice-an-example-with-keras-and-tensorflow-2-0-2f48b2888a0c)."
   ]
  },
  {
   "cell_type": "code",
   "execution_count": null,
   "id": "adcb201d",
   "metadata": {},
   "outputs": [],
   "source": [
    "# scatter plot of blobs dataset\n",
    "from sklearn.datasets import make_blobs\n",
    "import matplotlib.pyplot as plt\n",
    "from numpy import where\n",
    "from sklearn.model_selection import train_test_split\n",
    "from tensorflow.keras.utils import to_categorical\n",
    "\n",
    "# generate 2d classification dataset\n",
    "X, y = make_blobs(n_samples=1000, centers=3, n_features=2, cluster_std=2, random_state=2)\n",
    "\n",
    "# scatter plot for each class value\n",
    "for class_value in range(3):\n",
    "    # select indices of points with the class label\n",
    "    ids = where(y == class_value)\n",
    "    # scatter plot for points with a different color\n",
    "    plt.scatter(X[ids, 0], X[ids, 1])\n"
   ]
  },
  {
   "cell_type": "code",
   "execution_count": null,
   "id": "464c9cd7",
   "metadata": {},
   "outputs": [],
   "source": [
    "y = to_categorical(y)\n",
    "X_train, X_test, y_train, y_test = train_test_split(X, y)"
   ]
  },
  {
   "cell_type": "code",
   "execution_count": null,
   "id": "4dabadf1",
   "metadata": {},
   "outputs": [],
   "source": [
    "from tensorflow import keras\n",
    "from tensorflow.keras import layers\n",
    "from tensorflow.keras import optimizers\n",
    "\n",
    "\n",
    "# define model\n",
    "model = keras.Sequential()\n",
    "model.add(layers.Dense(50, input_dim=2, activation='relu', kernel_initializer='he_uniform'))\n",
    "model.add(layers.Dense(3, activation='softmax'))\n",
    "\n",
    "# compile model\n",
    "opt = optimizers.SGD(lr=1E-0)\n",
    "model.compile(loss='categorical_crossentropy', optimizer=opt, metrics=['accuracy'])\n",
    "history = model.fit(X_train, y_train, validation_data=(X_test, y_test), epochs=200, verbose=0)"
   ]
  },
  {
   "cell_type": "code",
   "execution_count": null,
   "id": "90b683a8",
   "metadata": {},
   "outputs": [],
   "source": [
    "# fit a model and plot learning curve\n",
    "def fit_model(X_train, X_test, y_train, y_test, learning_rate, ax):\n",
    "    # define model\n",
    "    model = keras.Sequential()\n",
    "    model.add(layers.Dense(50, input_dim=2, activation='relu', kernel_initializer='he_uniform'))\n",
    "    model.add(layers.Dense(3, activation='softmax'))\n",
    "    # compile model\n",
    "    opt = optimizers.SGD(learning_rate=learning_rate)\n",
    "    model.compile(loss='categorical_crossentropy', optimizer=opt, metrics=['accuracy'])\n",
    "    # fit model\n",
    "    history = model.fit(X_train, y_train, validation_data=(X_test, y_test), epochs=200, verbose=0)\n",
    "    # plot learning curves\n",
    "    ax.plot(history.history['accuracy'], label='train')\n",
    "    ax.plot(history.history['val_accuracy'], label='test')\n",
    "    ax.set_title(f'lrate={learning_rate}', pad=-50)\n",
    "\n",
    "\n",
    "# create learning curves for different learning rates\n",
    "learning_rates = [1E-0, 1E-1, 1E-2, 1E-3, 1E-4, 1E-5, 1E-6, 1E-7]\n",
    "\n",
    "fig = plt.figure(figsize=(10, 10))\n",
    "\n",
    "for i, learning_rate in enumerate(learning_rates):\n",
    "    ax = fig.add_subplot(420 + (i+1))\n",
    "    # fit model and plot learning curves for each learning rate\n",
    "    fit_model(X_train, X_test, y_train, y_test, learning_rate, ax)\n",
    "    if i < 6:\n",
    "        ax.set_xticklabels('')\n",
    "    else:\n",
    "        ax.set_xlabel('Epoch')\n",
    "\n",
    "# show plotted learning curves\n",
    "# plt.show()"
   ]
  }
 ],
 "metadata": {
  "kernelspec": {
   "display_name": "Python 3 (ipykernel)",
   "language": "python",
   "name": "python3"
  },
  "language_info": {
   "codemirror_mode": {
    "name": "ipython",
    "version": 3
   },
   "file_extension": ".py",
   "mimetype": "text/x-python",
   "name": "python",
   "nbconvert_exporter": "python",
   "pygments_lexer": "ipython3",
   "version": "3.10.6"
  }
 },
 "nbformat": 4,
 "nbformat_minor": 5
}
